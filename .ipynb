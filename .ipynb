{
 "cells": [
  {
   "cell_type": "code",
   "execution_count": 30,
   "metadata": {},
   "outputs": [
    {
     "ename": "ModuleNotFoundError",
     "evalue": "No module named 'config'",
     "output_type": "error",
     "traceback": [
      "\u001b[1;31m---------------------------------------------------------------------------\u001b[0m",
      "\u001b[1;31mModuleNotFoundError\u001b[0m                       Traceback (most recent call last)",
      "\u001b[1;32m<ipython-input-30-e7ca2a989c69>\u001b[0m in \u001b[0;36m<module>\u001b[1;34m\u001b[0m\n\u001b[0;32m      5\u001b[0m \u001b[1;32mimport\u001b[0m \u001b[0mjson\u001b[0m\u001b[1;33m\u001b[0m\u001b[1;33m\u001b[0m\u001b[0m\n\u001b[0;32m      6\u001b[0m \u001b[1;32mfrom\u001b[0m \u001b[0mpprint\u001b[0m \u001b[1;32mimport\u001b[0m \u001b[0mpprint\u001b[0m\u001b[1;33m\u001b[0m\u001b[1;33m\u001b[0m\u001b[0m\n\u001b[1;32m----> 7\u001b[1;33m \u001b[1;32mfrom\u001b[0m \u001b[0mconfig\u001b[0m \u001b[1;32mimport\u001b[0m \u001b[0mapi_key\u001b[0m\u001b[1;33m\u001b[0m\u001b[1;33m\u001b[0m\u001b[0m\n\u001b[0m",
      "\u001b[1;31mModuleNotFoundError\u001b[0m: No module named 'config'"
     ]
    }
   ],
   "source": [
    "import numpy as np\n",
    "import pandas as pd\n",
    "import matplotlib.pyplot as plt\n",
    "import requests\n",
    "import json\n",
    "from pprint import pprint\n",
    "from config import api_key"
   ]
  },
  {
   "cell_type": "code",
   "execution_count": 2,
   "metadata": {},
   "outputs": [],
   "source": [
    "url = \"https://api.census.gov/data/timeseries/poverty/saipe\""
   ]
  },
  {
   "cell_type": "code",
   "execution_count": 3,
   "metadata": {},
   "outputs": [
    {
     "name": "stdout",
     "output_type": "stream",
     "text": [
      "<Response [200]>\n"
     ]
    }
   ],
   "source": [
    "print(requests.get(url))"
   ]
  },
  {
   "cell_type": "code",
   "execution_count": 7,
   "metadata": {},
   "outputs": [
    {
     "name": "stdout",
     "output_type": "stream",
     "text": [
      "{'@context': 'https://project-open-data.cio.gov/v1.1/schema/catalog.jsonld', '@id': 'https://api.census.gov/data/timeseries/poverty/saipe.json', '@type': 'dcat:Catalog', 'conformsTo': 'https://project-open-data.cio.gov/v1.1/schema', 'describedBy': 'https://project-open-data.cio.gov/v1.1/schema/catalog.json', 'dataset': [{'c_dataset': ['timeseries', 'poverty', 'saipe'], 'c_geographyLink': 'https://api.census.gov/data/timeseries/poverty/saipe/geography.json', 'c_variablesLink': 'https://api.census.gov/data/timeseries/poverty/saipe/variables.json', 'c_examplesLink': 'https://api.census.gov/data/timeseries/poverty/saipe/examples.json', 'c_groupsLink': 'https://api.census.gov/data/timeseries/poverty/saipe/groups.json', 'c_valuesLink': 'https://api.census.gov/data/timeseries/poverty/saipe/values.json', 'c_documentationLink': 'http://www.census.gov/developer/', 'c_isTimeseries': True, 'c_isCube': True, 'c_isAvailable': True, '@type': 'dcat:Dataset', 'title': 'Time Series Small Area Income and Poverty Estimates: State and County', 'accessLevel': 'public', 'bureauCode': ['006:07'], 'description': \"The U.S. Census Bureau's Small Area Income and Poverty Estimates (SAIPE) program provides annual estimates of income and poverty statistics for all school districts, counties, and states. The main objective of this program is to provide estimates of income and poverty for the administration of federal programs and the allocation of federal funds to local jurisdictions. In addition to these federal programs, state and local programs use the income and poverty estimates for distributing funds and managing programs.\", 'distribution': [{'@type': 'dcat:Distribution', 'accessURL': 'https://api.census.gov/data/timeseries/poverty/saipe', 'description': 'API endpoint', 'format': 'API', 'mediaType': 'application/json', 'title': 'API endpoint'}], 'contactPoint': {'fn': 'Small Area Income and Poverty Estimates', 'hasEmail': 'sehsd.saipe@census.gov'}, 'identifier': 'http://api.census.gov/data/id/SAIPEStateCountyTimeSeries', 'keyword': [], 'license': 'http://creativecommons.org/publicdomain/zero/1.0/Public Domain', 'modified': '2018-12-03', 'programCode': ['006:004'], 'references': ['http://www.census.gov/developers/'], 'spatial': 'United States', 'temporal': 'Time Series', 'publisher': {'@type': 'org:Organization', 'name': 'U.S. Census Bureau', 'subOrganizationOf': {'@type': 'org:Organization', 'name': 'U.S. Department Of Commerce', 'subOrganizationOf': {'@type': 'org:Organization', 'name': 'U.S. Government'}}}}, {'c_dataset': ['timeseries', 'poverty', 'saipe', 'schdist'], 'c_geographyLink': 'https://api.census.gov/data/timeseries/poverty/saipe/schdist/geography.json', 'c_variablesLink': 'https://api.census.gov/data/timeseries/poverty/saipe/schdist/variables.json', 'c_examplesLink': 'https://api.census.gov/data/timeseries/poverty/saipe/schdist/examples.json', 'c_groupsLink': 'https://api.census.gov/data/timeseries/poverty/saipe/schdist/groups.json', 'c_valuesLink': 'https://api.census.gov/data/timeseries/poverty/saipe/schdist/values.json', 'c_documentationLink': 'http://www.census.gov/developer/', 'c_isTimeseries': True, 'c_isCube': True, 'c_isAvailable': True, '@type': 'dcat:Dataset', 'title': 'Time Series Small Area Income and Poverty Estimates: School Districts', 'accessLevel': 'public', 'bureauCode': ['006:07'], 'description': \"The U.S. Census Bureau's Small Area Income and Poverty Estimates (SAIPE) program provides annual estimates of income and poverty statistics for all school districts, counties, and states. The main objective of this program is to provide estimates of income and poverty for the administration of federal programs and the allocation of federal funds to local jurisdictions. In addition to these federal programs, state and local programs use the income and poverty estimates for distributing funds and managing programs. In order to implement provisions under Title I of the Elementary and Secondary Education Act as amended, we produce total population, number of children ages 5 to 17, and number of related children ages 5 to 17 in families in poverty estimates for school districts.\", 'distribution': [{'@type': 'dcat:Distribution', 'accessURL': 'https://api.census.gov/data/timeseries/poverty/saipe/schdist', 'description': 'API endpoint', 'format': 'API', 'mediaType': 'application/json', 'title': 'API endpoint'}], 'contactPoint': {'fn': 'Small Area Income and Poverty Estimates', 'hasEmail': 'sehsd.saipe@census.gov'}, 'identifier': 'http://api.census.gov/data/id/SAIPESchoolDistrictsTimeSeries', 'keyword': [], 'license': 'http://creativecommons.org/publicdomain/zero/1.0/Public Domain', 'modified': '2018-12-03', 'programCode': ['006:004'], 'references': ['http://www.census.gov/developers/'], 'spatial': 'United States', 'temporal': 'Time Series', 'publisher': {'@type': 'org:Organization', 'name': 'U.S. Census Bureau', 'subOrganizationOf': {'@type': 'org:Organization', 'name': 'U.S. Department Of Commerce', 'subOrganizationOf': {'@type': 'org:Organization', 'name': 'U.S. Government'}}}}]}\n"
     ]
    }
   ],
   "source": [
    "print(requests.get(url).json())"
   ]
  },
  {
   "cell_type": "code",
   "execution_count": 8,
   "metadata": {},
   "outputs": [],
   "source": [
    "response = requests.get(url).json()"
   ]
  },
  {
   "cell_type": "code",
   "execution_count": 9,
   "metadata": {},
   "outputs": [
    {
     "name": "stdout",
     "output_type": "stream",
     "text": [
      "{\n",
      "    \"@context\": \"https://project-open-data.cio.gov/v1.1/schema/catalog.jsonld\",\n",
      "    \"@id\": \"https://api.census.gov/data/timeseries/poverty/saipe.json\",\n",
      "    \"@type\": \"dcat:Catalog\",\n",
      "    \"conformsTo\": \"https://project-open-data.cio.gov/v1.1/schema\",\n",
      "    \"dataset\": [\n",
      "        {\n",
      "            \"@type\": \"dcat:Dataset\",\n",
      "            \"accessLevel\": \"public\",\n",
      "            \"bureauCode\": [\n",
      "                \"006:07\"\n",
      "            ],\n",
      "            \"c_dataset\": [\n",
      "                \"timeseries\",\n",
      "                \"poverty\",\n",
      "                \"saipe\"\n",
      "            ],\n",
      "            \"c_documentationLink\": \"http://www.census.gov/developer/\",\n",
      "            \"c_examplesLink\": \"https://api.census.gov/data/timeseries/poverty/saipe/examples.json\",\n",
      "            \"c_geographyLink\": \"https://api.census.gov/data/timeseries/poverty/saipe/geography.json\",\n",
      "            \"c_groupsLink\": \"https://api.census.gov/data/timeseries/poverty/saipe/groups.json\",\n",
      "            \"c_isAvailable\": true,\n",
      "            \"c_isCube\": true,\n",
      "            \"c_isTimeseries\": true,\n",
      "            \"c_valuesLink\": \"https://api.census.gov/data/timeseries/poverty/saipe/values.json\",\n",
      "            \"c_variablesLink\": \"https://api.census.gov/data/timeseries/poverty/saipe/variables.json\",\n",
      "            \"contactPoint\": {\n",
      "                \"fn\": \"Small Area Income and Poverty Estimates\",\n",
      "                \"hasEmail\": \"sehsd.saipe@census.gov\"\n",
      "            },\n",
      "            \"description\": \"The U.S. Census Bureau's Small Area Income and Poverty Estimates (SAIPE) program provides annual estimates of income and poverty statistics for all school districts, counties, and states. The main objective of this program is to provide estimates of income and poverty for the administration of federal programs and the allocation of federal funds to local jurisdictions. In addition to these federal programs, state and local programs use the income and poverty estimates for distributing funds and managing programs.\",\n",
      "            \"distribution\": [\n",
      "                {\n",
      "                    \"@type\": \"dcat:Distribution\",\n",
      "                    \"accessURL\": \"https://api.census.gov/data/timeseries/poverty/saipe\",\n",
      "                    \"description\": \"API endpoint\",\n",
      "                    \"format\": \"API\",\n",
      "                    \"mediaType\": \"application/json\",\n",
      "                    \"title\": \"API endpoint\"\n",
      "                }\n",
      "            ],\n",
      "            \"identifier\": \"http://api.census.gov/data/id/SAIPEStateCountyTimeSeries\",\n",
      "            \"keyword\": [],\n",
      "            \"license\": \"http://creativecommons.org/publicdomain/zero/1.0/Public Domain\",\n",
      "            \"modified\": \"2018-12-03\",\n",
      "            \"programCode\": [\n",
      "                \"006:004\"\n",
      "            ],\n",
      "            \"publisher\": {\n",
      "                \"@type\": \"org:Organization\",\n",
      "                \"name\": \"U.S. Census Bureau\",\n",
      "                \"subOrganizationOf\": {\n",
      "                    \"@type\": \"org:Organization\",\n",
      "                    \"name\": \"U.S. Department Of Commerce\",\n",
      "                    \"subOrganizationOf\": {\n",
      "                        \"@type\": \"org:Organization\",\n",
      "                        \"name\": \"U.S. Government\"\n",
      "                    }\n",
      "                }\n",
      "            },\n",
      "            \"references\": [\n",
      "                \"http://www.census.gov/developers/\"\n",
      "            ],\n",
      "            \"spatial\": \"United States\",\n",
      "            \"temporal\": \"Time Series\",\n",
      "            \"title\": \"Time Series Small Area Income and Poverty Estimates: State and County\"\n",
      "        },\n",
      "        {\n",
      "            \"@type\": \"dcat:Dataset\",\n",
      "            \"accessLevel\": \"public\",\n",
      "            \"bureauCode\": [\n",
      "                \"006:07\"\n",
      "            ],\n",
      "            \"c_dataset\": [\n",
      "                \"timeseries\",\n",
      "                \"poverty\",\n",
      "                \"saipe\",\n",
      "                \"schdist\"\n",
      "            ],\n",
      "            \"c_documentationLink\": \"http://www.census.gov/developer/\",\n",
      "            \"c_examplesLink\": \"https://api.census.gov/data/timeseries/poverty/saipe/schdist/examples.json\",\n",
      "            \"c_geographyLink\": \"https://api.census.gov/data/timeseries/poverty/saipe/schdist/geography.json\",\n",
      "            \"c_groupsLink\": \"https://api.census.gov/data/timeseries/poverty/saipe/schdist/groups.json\",\n",
      "            \"c_isAvailable\": true,\n",
      "            \"c_isCube\": true,\n",
      "            \"c_isTimeseries\": true,\n",
      "            \"c_valuesLink\": \"https://api.census.gov/data/timeseries/poverty/saipe/schdist/values.json\",\n",
      "            \"c_variablesLink\": \"https://api.census.gov/data/timeseries/poverty/saipe/schdist/variables.json\",\n",
      "            \"contactPoint\": {\n",
      "                \"fn\": \"Small Area Income and Poverty Estimates\",\n",
      "                \"hasEmail\": \"sehsd.saipe@census.gov\"\n",
      "            },\n",
      "            \"description\": \"The U.S. Census Bureau's Small Area Income and Poverty Estimates (SAIPE) program provides annual estimates of income and poverty statistics for all school districts, counties, and states. The main objective of this program is to provide estimates of income and poverty for the administration of federal programs and the allocation of federal funds to local jurisdictions. In addition to these federal programs, state and local programs use the income and poverty estimates for distributing funds and managing programs. In order to implement provisions under Title I of the Elementary and Secondary Education Act as amended, we produce total population, number of children ages 5 to 17, and number of related children ages 5 to 17 in families in poverty estimates for school districts.\",\n",
      "            \"distribution\": [\n",
      "                {\n",
      "                    \"@type\": \"dcat:Distribution\",\n",
      "                    \"accessURL\": \"https://api.census.gov/data/timeseries/poverty/saipe/schdist\",\n",
      "                    \"description\": \"API endpoint\",\n",
      "                    \"format\": \"API\",\n",
      "                    \"mediaType\": \"application/json\",\n",
      "                    \"title\": \"API endpoint\"\n",
      "                }\n",
      "            ],\n",
      "            \"identifier\": \"http://api.census.gov/data/id/SAIPESchoolDistrictsTimeSeries\",\n",
      "            \"keyword\": [],\n",
      "            \"license\": \"http://creativecommons.org/publicdomain/zero/1.0/Public Domain\",\n",
      "            \"modified\": \"2018-12-03\",\n",
      "            \"programCode\": [\n",
      "                \"006:004\"\n",
      "            ],\n",
      "            \"publisher\": {\n",
      "                \"@type\": \"org:Organization\",\n",
      "                \"name\": \"U.S. Census Bureau\",\n",
      "                \"subOrganizationOf\": {\n",
      "                    \"@type\": \"org:Organization\",\n",
      "                    \"name\": \"U.S. Department Of Commerce\",\n",
      "                    \"subOrganizationOf\": {\n",
      "                        \"@type\": \"org:Organization\",\n",
      "                        \"name\": \"U.S. Government\"\n",
      "                    }\n",
      "                }\n",
      "            },\n",
      "            \"references\": [\n",
      "                \"http://www.census.gov/developers/\"\n",
      "            ],\n",
      "            \"spatial\": \"United States\",\n",
      "            \"temporal\": \"Time Series\",\n",
      "            \"title\": \"Time Series Small Area Income and Poverty Estimates: School Districts\"\n",
      "        }\n",
      "    ],\n",
      "    \"describedBy\": \"https://project-open-data.cio.gov/v1.1/schema/catalog.json\"\n",
      "}\n"
     ]
    }
   ],
   "source": [
    "print(json.dumps(response, indent=4, sort_keys=True))"
   ]
  },
  {
   "cell_type": "code",
   "execution_count": 28,
   "metadata": {
    "scrolled": true
   },
   "outputs": [
    {
     "name": "stdout",
     "output_type": "stream",
     "text": [
      "'poverty'\n"
     ]
    }
   ],
   "source": [
    "dataset_df = (response[\"dataset\"][0][\"c_dataset\"][1])\n",
    "pprint(dataset_df)"
   ]
  },
  {
   "cell_type": "code",
   "execution_count": null,
   "metadata": {},
   "outputs": [],
   "source": []
  }
 ],
 "metadata": {
  "kernelspec": {
   "display_name": "Python 3",
   "language": "python",
   "name": "python3"
  },
  "language_info": {
   "codemirror_mode": {
    "name": "ipython",
    "version": 3
   },
   "file_extension": ".py",
   "mimetype": "text/x-python",
   "name": "python",
   "nbconvert_exporter": "python",
   "pygments_lexer": "ipython3",
   "version": "3.7.3"
  }
 },
 "nbformat": 4,
 "nbformat_minor": 2
}
