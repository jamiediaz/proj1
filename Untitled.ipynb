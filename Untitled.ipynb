{
 "cells": [
  {
   "cell_type": "code",
   "execution_count": 1,
   "metadata": {},
   "outputs": [],
   "source": [
    "import matplotlib.pyplot as plt\n",
    "import pandas as pd\n",
    "import numpy as np\n",
    "import requests\n",
    "import time \n"
   ]
  },
  {
   "cell_type": "code",
   "execution_count": 2,
   "metadata": {},
   "outputs": [
    {
     "name": "stdout",
     "output_type": "stream",
     "text": [
      "hello\n"
     ]
    },
    {
     "ename": "NameError",
     "evalue": "name 'ORI_list' is not defined",
     "output_type": "error",
     "traceback": [
      "\u001b[1;31m---------------------------------------------------------------------------\u001b[0m",
      "\u001b[1;31mNameError\u001b[0m                                 Traceback (most recent call last)",
      "\u001b[1;32m<ipython-input-2-be011ab5d21d>\u001b[0m in \u001b[0;36m<module>\u001b[1;34m\u001b[0m\n\u001b[0;32m      1\u001b[0m \u001b[0mprint\u001b[0m\u001b[1;33m(\u001b[0m\u001b[1;34m\"hello\"\u001b[0m\u001b[1;33m)\u001b[0m\u001b[1;33m\u001b[0m\u001b[1;33m\u001b[0m\u001b[0m\n\u001b[0;32m      2\u001b[0m \u001b[0mrORIdx\u001b[0m \u001b[1;33m=\u001b[0m \u001b[1;36m0\u001b[0m\u001b[1;33m\u001b[0m\u001b[1;33m\u001b[0m\u001b[0m\n\u001b[1;32m----> 3\u001b[1;33m \u001b[1;32mfor\u001b[0m \u001b[0mrORI_name\u001b[0m \u001b[1;32min\u001b[0m \u001b[0mORI_list\u001b[0m\u001b[1;33m:\u001b[0m\u001b[1;33m\u001b[0m\u001b[1;33m\u001b[0m\u001b[0m\n\u001b[0m\u001b[0;32m      4\u001b[0m     \u001b[0mrcrime_url\u001b[0m \u001b[1;33m=\u001b[0m \u001b[1;34m\"https://api.usa.gov/crime/fbi/sapi/api/summarized/agencies/\"\u001b[0m\u001b[1;33m\u001b[0m\u001b[1;33m\u001b[0m\u001b[0m\n\u001b[0;32m      5\u001b[0m     \u001b[0mrquery_url\u001b[0m \u001b[1;33m=\u001b[0m \u001b[1;34mf\"{rcrime_url}{ORI_list[rORIdx]}/rape/1997/2017?API_KEY={API_KEY}\"\u001b[0m\u001b[1;33m\u001b[0m\u001b[1;33m\u001b[0m\u001b[0m\n",
      "\u001b[1;31mNameError\u001b[0m: name 'ORI_list' is not defined"
     ]
    }
   ],
   "source": [
    "\n",
    "rORIdx = 0        \n",
    "for rORI_name in ORI_list:\n",
    "    rcrime_url = \"https://api.usa.gov/crime/fbi/sapi/api/summarized/agencies/\"\n",
    "    rquery_url = f\"{rcrime_url}{ORI_list[rORIdx]}/rape/1997/2017?API_KEY={API_KEY}\"\n",
    "    rape_data = requests.get(rquery_url).json()\n",
    "    \n",
    "    rpyr=0\n",
    "    rpapi=0\n",
    "    \n",
    "print(rape_data)\n",
    "#     try:\n",
    "#         for x in rape_years:\n",
    "          \n",
    "#             if rape_years[rpyr] == rape_data[\"results\"][rpapi][\"data_year\"]: \n",
    "                \n",
    "#                 if rape_data[\"results\"][rpapi][\"offense\"] == \"rape\":\n",
    "#                     rape_actual.append(rape_data[\"results\"][rpapi][\"actual\"])\n",
    "#                     rape_cleared.append(rape_data[\"results\"][rpapi][\"cleared\"])\n",
    "#                     rpyr += 1\n",
    "#                     rpapi += 1\n",
    "\n",
    "#                 if rape_data[\"results\"][rpapi][\"offense\"] == \"rape-legacy\":\n",
    "#                     rape_legacy_actual.append(rape_data[\"results\"][rpapi][\"actual\"])\n",
    "#                     rape_legacy_cleared.append(rape_data[\"results\"][rpapi][\"cleared\"])\n",
    "#                     rpyr += 1\n",
    "#                     rpapi += 1\n",
    "\n",
    "#             elif rape_years[rpyr] != rape_data[\"results\"][rpapi][\"data_year\"]:\n",
    "#                 if rape_data[\"results\"][rpapi][\"offense\"] == \"rape\":\n",
    "#                     missing_rape_data(rape_actual,\"actual\")\n",
    "#                     missing_rape_data(rape_cleared,\"cleared\")\n",
    "#                     rpyr +=1\n",
    "\n",
    "#                 if rape_data[\"results\"][rpapi][\"offense\"] == \"rape-legacy\":\n",
    "#                     missing_rape_data(rape_legacy_actual,\"actual\")\n",
    "#                     missing_rape_data(rape_legacy_cleared,\"cleared\")\n",
    "#                     rpyr +=1\n",
    "\n",
    "#     #     if crime_list[cridx] == \"rape\":\n",
    "#         rape_actual_sr = pd.Series(rape_actual)  \n",
    "#         rape_actual_cnt = rape_actual_cnt + rape_actual_sr\n",
    "#         round(rape_actual_cnt)\n",
    "#         del rape_actual[:]\n",
    "\n",
    "#         rape_cleared_sr = pd.Series(rape_cleared)  \n",
    "#         rape_cleared_cnt = rape_cleared_cnt + rape_cleared_sr\n",
    "#         round(rape_cleared_cnt)\n",
    "#         del rape_cleared[:]\n",
    "\n",
    "#         rape_legacy_actual_sr = pd.Series(rape_legacy_actual)  \n",
    "\n",
    "#         rape_legacy_actual_cnt = rape_legacy_actual_cnt + rape_legacy_actual_sr\n",
    "#         round(rape_legacy_actual_cnt)\n",
    "#         del rape_legacy_actual[:]\n",
    "\n",
    "\n",
    "#         rape_legacy_cleared_sr = pd.Series(rape_legacy_cleared)  \n",
    "#         rape_legacy_cleared_cnt = rape_legacy_cleared_cnt + rape_legacy_cleared_sr\n",
    "#         round(rape_legacy_cleared_cnt)\n",
    "#         del rape_legacy_cleared[:]\n",
    "    \n",
    "    \n",
    "#     except KeyError:\n",
    "#             print(f\"exception: {ORI_list[ORIdx]} - No Rape Data\")\n",
    "    \n",
    "rORIdx+=1\n",
    "    \n",
    "# print('Completed API calls')"
   ]
  }
 ],
 "metadata": {
  "kernelspec": {
   "display_name": "Python 3",
   "language": "python",
   "name": "python3"
  },
  "language_info": {
   "codemirror_mode": {
    "name": "ipython",
    "version": 3
   },
   "file_extension": ".py",
   "mimetype": "text/x-python",
   "name": "python",
   "nbconvert_exporter": "python",
   "pygments_lexer": "ipython3",
   "version": "3.6.8"
  }
 },
 "nbformat": 4,
 "nbformat_minor": 2
}
