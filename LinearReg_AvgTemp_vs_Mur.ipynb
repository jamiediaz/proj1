{
 "cells": [
  {
   "cell_type": "code",
   "execution_count": 23,
   "metadata": {},
   "outputs": [],
   "source": [
    "# Dependencies\n",
    "from matplotlib import pyplot as plt\n",
    "from scipy.stats import linregress\n",
    "from scipy import stats\n",
    "import numpy as np"
   ]
  },
  {
   "cell_type": "code",
   "execution_count": 12,
   "metadata": {},
   "outputs": [
    {
     "data": {
      "text/html": [
       "<div>\n",
       "<style scoped>\n",
       "    .dataframe tbody tr th:only-of-type {\n",
       "        vertical-align: middle;\n",
       "    }\n",
       "\n",
       "    .dataframe tbody tr th {\n",
       "        vertical-align: top;\n",
       "    }\n",
       "\n",
       "    .dataframe thead th {\n",
       "        text-align: right;\n",
       "    }\n",
       "</style>\n",
       "<table border=\"1\" class=\"dataframe\">\n",
       "  <thead>\n",
       "    <tr style=\"text-align: right;\">\n",
       "      <th></th>\n",
       "      <th>Unnamed: 0</th>\n",
       "      <th>Year</th>\n",
       "      <th>Aggravated Assault</th>\n",
       "      <th>Simple Assault</th>\n",
       "      <th>Rape</th>\n",
       "      <th>Robbery</th>\n",
       "      <th>Domestic Violence</th>\n",
       "      <th>Manslaughter</th>\n",
       "      <th>Murder</th>\n",
       "      <th>Total</th>\n",
       "      <th>US Violent Crime Stnd</th>\n",
       "      <th>Average Temperature</th>\n",
       "      <th>Minimum Temperature</th>\n",
       "      <th>Maximum Temperature</th>\n",
       "      <th>Household Median Income</th>\n",
       "    </tr>\n",
       "  </thead>\n",
       "  <tbody>\n",
       "    <tr>\n",
       "      <th>0</th>\n",
       "      <td>0</td>\n",
       "      <td>1997</td>\n",
       "      <td>2726.0</td>\n",
       "      <td>13634.0</td>\n",
       "      <td>272.0</td>\n",
       "      <td>1373.0</td>\n",
       "      <td>110.0</td>\n",
       "      <td>26.0</td>\n",
       "      <td>172.0</td>\n",
       "      <td>18313.0</td>\n",
       "      <td>18005.0</td>\n",
       "      <td>69.39</td>\n",
       "      <td>30</td>\n",
       "      <td>98</td>\n",
       "      <td>39037</td>\n",
       "    </tr>\n",
       "    <tr>\n",
       "      <th>1</th>\n",
       "      <td>1</td>\n",
       "      <td>1998</td>\n",
       "      <td>2498.0</td>\n",
       "      <td>12996.0</td>\n",
       "      <td>315.0</td>\n",
       "      <td>1237.0</td>\n",
       "      <td>106.0</td>\n",
       "      <td>17.0</td>\n",
       "      <td>150.0</td>\n",
       "      <td>17319.0</td>\n",
       "      <td>17046.0</td>\n",
       "      <td>72.37</td>\n",
       "      <td>29</td>\n",
       "      <td>102</td>\n",
       "      <td>40690</td>\n",
       "    </tr>\n",
       "    <tr>\n",
       "      <th>2</th>\n",
       "      <td>2</td>\n",
       "      <td>1999</td>\n",
       "      <td>2674.0</td>\n",
       "      <td>15096.0</td>\n",
       "      <td>249.0</td>\n",
       "      <td>1293.0</td>\n",
       "      <td>150.0</td>\n",
       "      <td>11.0</td>\n",
       "      <td>137.0</td>\n",
       "      <td>19610.0</td>\n",
       "      <td>19312.0</td>\n",
       "      <td>71.65</td>\n",
       "      <td>29</td>\n",
       "      <td>101</td>\n",
       "      <td>41466</td>\n",
       "    </tr>\n",
       "    <tr>\n",
       "      <th>3</th>\n",
       "      <td>3</td>\n",
       "      <td>2000</td>\n",
       "      <td>2459.0</td>\n",
       "      <td>15117.0</td>\n",
       "      <td>235.0</td>\n",
       "      <td>1323.0</td>\n",
       "      <td>158.0</td>\n",
       "      <td>12.0</td>\n",
       "      <td>152.0</td>\n",
       "      <td>19456.0</td>\n",
       "      <td>19134.0</td>\n",
       "      <td>71.14</td>\n",
       "      <td>30</td>\n",
       "      <td>108</td>\n",
       "      <td>41220</td>\n",
       "    </tr>\n",
       "    <tr>\n",
       "      <th>4</th>\n",
       "      <td>4</td>\n",
       "      <td>2001</td>\n",
       "      <td>2602.0</td>\n",
       "      <td>14694.0</td>\n",
       "      <td>198.0</td>\n",
       "      <td>1340.0</td>\n",
       "      <td>182.0</td>\n",
       "      <td>7.0</td>\n",
       "      <td>162.0</td>\n",
       "      <td>19185.0</td>\n",
       "      <td>18834.0</td>\n",
       "      <td>69.97</td>\n",
       "      <td>29</td>\n",
       "      <td>97</td>\n",
       "      <td>43279</td>\n",
       "    </tr>\n",
       "  </tbody>\n",
       "</table>\n",
       "</div>"
      ],
      "text/plain": [
       "   Unnamed: 0  Year  Aggravated Assault  Simple Assault   Rape  Robbery  \\\n",
       "0           0  1997              2726.0         13634.0  272.0   1373.0   \n",
       "1           1  1998              2498.0         12996.0  315.0   1237.0   \n",
       "2           2  1999              2674.0         15096.0  249.0   1293.0   \n",
       "3           3  2000              2459.0         15117.0  235.0   1323.0   \n",
       "4           4  2001              2602.0         14694.0  198.0   1340.0   \n",
       "\n",
       "   Domestic Violence  Manslaughter  Murder    Total  US Violent Crime Stnd  \\\n",
       "0              110.0          26.0   172.0  18313.0                18005.0   \n",
       "1              106.0          17.0   150.0  17319.0                17046.0   \n",
       "2              150.0          11.0   137.0  19610.0                19312.0   \n",
       "3              158.0          12.0   152.0  19456.0                19134.0   \n",
       "4              182.0           7.0   162.0  19185.0                18834.0   \n",
       "\n",
       "   Average Temperature  Minimum Temperature  Maximum Temperature  \\\n",
       "0                69.39                   30                   98   \n",
       "1                72.37                   29                  102   \n",
       "2                71.65                   29                  101   \n",
       "3                71.14                   30                  108   \n",
       "4                69.97                   29                   97   \n",
       "\n",
       "   Household Median Income  \n",
       "0                    39037  \n",
       "1                    40690  \n",
       "2                    41466  \n",
       "3                    41220  \n",
       "4                    43279  "
      ]
     },
     "execution_count": 12,
     "metadata": {},
     "output_type": "execute_result"
    }
   ],
   "source": [
    "all_data_path=\"csv_output/crime_cnt_df.csv\"\n",
    "coldblood_df = pd.read_csv(all_data_path)\n",
    "coldblood_df.head()"
   ]
  },
  {
   "cell_type": "code",
   "execution_count": 13,
   "metadata": {},
   "outputs": [
    {
     "name": "stdout",
     "output_type": "stream",
     "text": [
      "0     69.39\n",
      "1     72.37\n",
      "2     71.65\n",
      "3     71.14\n",
      "4     69.97\n",
      "5     69.98\n",
      "6     69.96\n",
      "7     70.95\n",
      "8     71.45\n",
      "9     71.46\n",
      "10    71.05\n",
      "11    71.18\n",
      "12    71.15\n",
      "13    69.83\n",
      "14    72.45\n",
      "15    72.60\n",
      "16    70.36\n",
      "17    69.60\n",
      "18    71.34\n",
      "19    72.91\n",
      "20    73.29\n",
      "Name: Average Temperature, dtype: float64\n",
      "0     172.0\n",
      "1     150.0\n",
      "2     137.0\n",
      "3     152.0\n",
      "4     162.0\n",
      "5     174.0\n",
      "6     145.0\n",
      "7     144.0\n",
      "8     198.0\n",
      "9     217.5\n",
      "10    220.5\n",
      "11    188.0\n",
      "12    171.0\n",
      "13    187.0\n",
      "14    164.0\n",
      "15    158.0\n",
      "16    152.0\n",
      "17    176.0\n",
      "18    191.0\n",
      "19    224.0\n",
      "20    151.0\n",
      "Name: Murder, dtype: float64\n"
     ]
    }
   ],
   "source": [
    "avg_temp=[]\n",
    "avg_temp=coldblood_df[\"Average Temperature\"]\n",
    "murder_rates=[]\n",
    "murder_rates=coldblood_df[\"Murder\"]"
   ]
  },
  {
   "cell_type": "code",
   "execution_count": 14,
   "metadata": {},
   "outputs": [],
   "source": [
    "# Set data for plotting\n",
    "x_axis = avg_temp\n",
    "y_axis = murder_rates"
   ]
  },
  {
   "cell_type": "code",
   "execution_count": 15,
   "metadata": {},
   "outputs": [],
   "source": [
    "# Set line\n",
    "(slope, intercept, _, _, _) = linregress(x_axis, y_axis)\n",
    "fit = slope * x_axis + intercept"
   ]
  },
  {
   "cell_type": "code",
   "execution_count": 22,
   "metadata": {},
   "outputs": [
    {
     "data": {
      "image/png": "[encoded data removed]",
      "text/plain": [
       "<Figure size 432x288 with 1 Axes>"
      ]
     },
     "metadata": {
      "needs_background": "light"
     },
     "output_type": "display_data"
    }
   ],
   "source": [
    " # Plot data\n",
    "fig, ax = plt.subplots()\n",
    "\n",
    "fig.suptitle(\"Avgerage Temp vs Yearly Murder Rate\", fontsize=16, fontweight=\"bold\")\n",
    "\n",
    "ax.set_xlim(69,74)\n",
    "ax.set_ylim(120,230)\n",
    "\n",
    "ax.set_xlabel(\"Avg Yearly Temp (in deg F)\")\n",
    "ax.set_ylabel(\"Yearly Murder Rate (per capita for Harris County)\")\n",
    "\n",
    "ax.plot(x_axis, y_axis, linewidth=0, marker='o')\n",
    "ax.plot(x_axis, fit, 'b--')\n",
    "\n",
    "plt.show()"
   ]
  },
  {
   "cell_type": "code",
   "execution_count": 33,
   "metadata": {},
   "outputs": [
    {
     "name": "stdout",
     "output_type": "stream",
     "text": [
      "1.173291091632771 89.57186884825285 0.0510832760622641 0.8259476764129061 5.26238774328163\n"
     ]
    }
   ],
   "source": [
    "#Set samples\n",
    "s1 = avg_temp\n",
    "s2 = murder_rates\n",
    "#run Linear Regression\n",
    "slope, intercept, r_value, p_value, std_err = stats.linregress(s1,s2)\n",
    "print(slope, intercept,r_value, p_value, std_err)"
   ]
  },
  {
   "cell_type": "code",
   "execution_count": 34,
   "metadata": {},
   "outputs": [
    {
     "name": "stdout",
     "output_type": "stream",
     "text": [
      "t-statistics is -17.97964779544565.\n",
      "p-value is 7.581653424642123e-14.\n"
     ]
    }
   ],
   "source": [
    "# Run T test\n",
    "(t_stat, p) = stats.ttest_ind(s1, s2, equal_var=False)\n",
    "print(\"t-statistics is {}.\".format(t_stat))\n",
    "print(\"p-value is {}.\".format(p))"
   ]
  },
  {
   "cell_type": "code",
   "execution_count": null,
   "metadata": {},
   "outputs": [],
   "source": []
  }
 ],
 "metadata": {
  "kernelspec": {
   "display_name": "Python 3",
   "language": "python",
   "name": "python3"
  },
  "language_info": {
   "codemirror_mode": {
    "name": "ipython",
    "version": 3
   },
   "file_extension": ".py",
   "mimetype": "text/x-python",
   "name": "python",
   "nbconvert_exporter": "python",
   "pygments_lexer": "ipython3",
   "version": "3.7.3"
  }
 },
 "nbformat": 4,
 "nbformat_minor": 2
}
