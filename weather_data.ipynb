{
 "cells": [
  {
   "cell_type": "code",
   "execution_count": 69,
   "metadata": {},
   "outputs": [],
   "source": [
    "# Dependencies and Setup\n",
    "import pandas as pd\n",
    "import numpy as np\n",
    "import csv"
   ]
  },
  {
   "cell_type": "code",
   "execution_count": 70,
   "metadata": {},
   "outputs": [],
   "source": [
    "# File to Load \n",
    "weather_data_path = \"HOU_daily.csv\""
   ]
  },
  {
   "cell_type": "code",
   "execution_count": 71,
   "metadata": {},
   "outputs": [
    {
     "data": {
      "text/html": [
       "<div>\n",
       "<style scoped>\n",
       "    .dataframe tbody tr th:only-of-type {\n",
       "        vertical-align: middle;\n",
       "    }\n",
       "\n",
       "    .dataframe tbody tr th {\n",
       "        vertical-align: top;\n",
       "    }\n",
       "\n",
       "    .dataframe thead th {\n",
       "        text-align: right;\n",
       "    }\n",
       "</style>\n",
       "<table border=\"1\" class=\"dataframe\">\n",
       "  <thead>\n",
       "    <tr style=\"text-align: right;\">\n",
       "      <th></th>\n",
       "      <th>Site4</th>\n",
       "      <th>Year</th>\n",
       "      <th>Max Temp</th>\n",
       "      <th>Min Temp</th>\n",
       "      <th>Avg Temp</th>\n",
       "      <th>HDDs</th>\n",
       "      <th>CDDs</th>\n",
       "      <th>Precipitation Water Equiv</th>\n",
       "      <th>Snowfall</th>\n",
       "      <th>Snow/Ice Depth</th>\n",
       "      <th>Full Date</th>\n",
       "    </tr>\n",
       "  </thead>\n",
       "  <tbody>\n",
       "    <tr>\n",
       "      <th>0</th>\n",
       "      <td>HOU</td>\n",
       "      <td>1964</td>\n",
       "      <td>62</td>\n",
       "      <td>28</td>\n",
       "      <td>45.0</td>\n",
       "      <td>20.0</td>\n",
       "      <td>0.0</td>\n",
       "      <td>0.00</td>\n",
       "      <td>0.0</td>\n",
       "      <td>0.0</td>\n",
       "      <td>1/1/64</td>\n",
       "    </tr>\n",
       "    <tr>\n",
       "      <th>1</th>\n",
       "      <td>HOU</td>\n",
       "      <td>1964</td>\n",
       "      <td>70</td>\n",
       "      <td>36</td>\n",
       "      <td>53.0</td>\n",
       "      <td>12.0</td>\n",
       "      <td>0.0</td>\n",
       "      <td>0.00</td>\n",
       "      <td>0.0</td>\n",
       "      <td>0.0</td>\n",
       "      <td>1/2/64</td>\n",
       "    </tr>\n",
       "    <tr>\n",
       "      <th>2</th>\n",
       "      <td>HOU</td>\n",
       "      <td>1964</td>\n",
       "      <td>72</td>\n",
       "      <td>44</td>\n",
       "      <td>58.0</td>\n",
       "      <td>7.0</td>\n",
       "      <td>0.0</td>\n",
       "      <td>0.06</td>\n",
       "      <td>0.0</td>\n",
       "      <td>0.0</td>\n",
       "      <td>1/3/64</td>\n",
       "    </tr>\n",
       "    <tr>\n",
       "      <th>3</th>\n",
       "      <td>HOU</td>\n",
       "      <td>1964</td>\n",
       "      <td>61</td>\n",
       "      <td>50</td>\n",
       "      <td>55.5</td>\n",
       "      <td>9.5</td>\n",
       "      <td>0.0</td>\n",
       "      <td>0.00</td>\n",
       "      <td>0.0</td>\n",
       "      <td>0.0</td>\n",
       "      <td>1/4/64</td>\n",
       "    </tr>\n",
       "    <tr>\n",
       "      <th>4</th>\n",
       "      <td>HOU</td>\n",
       "      <td>1964</td>\n",
       "      <td>55</td>\n",
       "      <td>43</td>\n",
       "      <td>49.0</td>\n",
       "      <td>16.0</td>\n",
       "      <td>0.0</td>\n",
       "      <td>0.09</td>\n",
       "      <td>0.0</td>\n",
       "      <td>0.0</td>\n",
       "      <td>1/5/64</td>\n",
       "    </tr>\n",
       "  </tbody>\n",
       "</table>\n",
       "</div>"
      ],
      "text/plain": [
       "  Site4  Year  Max Temp  Min Temp  Avg Temp  HDDs  CDDs  \\\n",
       "0   HOU  1964        62        28      45.0  20.0   0.0   \n",
       "1   HOU  1964        70        36      53.0  12.0   0.0   \n",
       "2   HOU  1964        72        44      58.0   7.0   0.0   \n",
       "3   HOU  1964        61        50      55.5   9.5   0.0   \n",
       "4   HOU  1964        55        43      49.0  16.0   0.0   \n",
       "\n",
       "   Precipitation Water Equiv  Snowfall  Snow/Ice Depth Full Date  \n",
       "0                       0.00       0.0             0.0    1/1/64  \n",
       "1                       0.00       0.0             0.0    1/2/64  \n",
       "2                       0.06       0.0             0.0    1/3/64  \n",
       "3                       0.00       0.0             0.0    1/4/64  \n",
       "4                       0.09       0.0             0.0    1/5/64  "
      ]
     },
     "execution_count": 71,
     "metadata": {},
     "output_type": "execute_result"
    }
   ],
   "source": [
    "# Read CSV File and store into Pandas data frame\n",
    "weather_data_df = pd.read_csv(weather_data_path)\n",
    "weather_data_df.head()"
   ]
  },
  {
   "cell_type": "code",
   "execution_count": 72,
   "metadata": {},
   "outputs": [
    {
     "name": "stdout",
     "output_type": "stream",
     "text": [
      "[1997, 1998, 1999, 2000, 2001, 2002, 2003, 2004, 2005, 2006, 2007, 2008, 2009, 2010, 2011, 2012, 2013, 2014, 2015, 2016, 2017]\n"
     ]
    }
   ],
   "source": [
    "year=int(1997)\n",
    "years=[]\n",
    "for year in range(1997,2018):\n",
    "    years.append(year)\n",
    "    year+=1\n",
    "print(years)"
   ]
  },
  {
   "cell_type": "code",
   "execution_count": 73,
   "metadata": {},
   "outputs": [
    {
     "name": "stdout",
     "output_type": "stream",
     "text": [
      "[69.3945205479452, 72.37397260273973, 71.65205479452055, 71.14207650273224, 69.96712328767123, 69.97534246575343, 69.96027397260274, 70.95218579234972, 71.45205479452055, 71.46164383561644, 71.04657534246576, 71.17896174863388, 71.15342465753425, 69.83287671232877, 72.45205479452055, 72.59972677595628, 70.36301369863014, 69.5986301369863, 71.33972602739726, 72.90573770491804, 73.2931506849315]\n",
      "[30, 29, 29, 30, 29, 25, 28, 28, 34, 30, 29, -1, 27, 21, 23, 31, 31, 25, 30, 32, 23]\n",
      "[98, 102, 101, 108, 97, 97, 102, 97, 100, 99, 102, 104, 103, 99, 105, 102, 105, 98, 104, 99, 102]\n"
     ]
    }
   ],
   "source": [
    "\n",
    "#Initializing lists to hold calculated or filtered data for each year\n",
    "\n",
    "avg_temps=[]\n",
    "min_temps=[]\n",
    "max_temps=[]\n",
    "weather_sum={}\n",
    "#Initializing variables to hold calculated or filtered data for each year to be appended to lists\n",
    "avg_temp=0\n",
    "min_temp=0\n",
    "max_temp=0\n",
    "#variable to hold value of year\n",
    "year=1997\n",
    "#filter rows for each year using  the boolean expression\n",
    "for year in range(1997,2018):\n",
    "    new_df=weather_data_df[weather_data_df['Year']==year]\n",
    "    avg_temp=new_df['Avg Temp'].mean()\n",
    "    min_temp=new_df['Min Temp'].min()\n",
    "    max_temp=new_df['Max Temp'].max()\n",
    "    avg_temps.append(avg_temp)\n",
    "    min_temps.append(min_temp)\n",
    "    max_temps.append(max_temp)\n",
    "    year+=1\n",
    "print(avg_temps)\n",
    "print(min_temps)\n",
    "print(max_temps)"
   ]
  },
  {
   "cell_type": "code",
   "execution_count": null,
   "metadata": {},
   "outputs": [],
   "source": []
  },
  {
   "cell_type": "code",
   "execution_count": null,
   "metadata": {},
   "outputs": [],
   "source": []
  },
  {
   "cell_type": "code",
   "execution_count": null,
   "metadata": {},
   "outputs": [],
   "source": []
  },
  {
   "cell_type": "code",
   "execution_count": null,
   "metadata": {},
   "outputs": [],
   "source": []
  }
 ],
 "metadata": {
  "kernelspec": {
   "display_name": "Python 3",
   "language": "python",
   "name": "python3"
  },
  "language_info": {
   "codemirror_mode": {
    "name": "ipython",
    "version": 3
   },
   "file_extension": ".py",
   "mimetype": "text/x-python",
   "name": "python",
   "nbconvert_exporter": "python",
   "pygments_lexer": "ipython3",
   "version": "3.6.8"
  }
 },
 "nbformat": 4,
 "nbformat_minor": 2
}
