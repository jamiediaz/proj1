{
 "cells": [
  {
   "cell_type": "code",
   "execution_count": null,
   "metadata": {},
   "outputs": [],
   "source": [
    "# violent crime = rape or sexual assault, robbery, aggravated and simple assault\n",
    "# https://en.wikipedia.org/wiki/Violent_crime\n",
    "\n",
    "# sample URL: \n",
    "#https://api.usa.gov/crime/fbi/sapi/api/data/arrest/agencies/offense/TXHPD0000/violent_crime/1997/2017?API_KEY=iiHnOKfno2Mgkt5AynpvPpUQTEyxE77jo1RU8PIv\n",
    "# API sample\n",
    "\n",
    "# \"aggravated_assault\": 1293,\n",
    "# \"all_other_offenses\": 34985,\n",
    "# \"arson\": 33,\n",
    "# \"burglary\": 1256,\n",
    "# \"curfew\": 304,\n",
    "# \"disorderly\": 6418,\n",
    "# \"driving\": 4934,\n",
    "# \"drug_abuse_gt\": 19450,\n",
    "# \"drug_poss_m\": 5624,\n",
    "# \"drug_poss_opium\": 7858,\n",
    "# \"drug_poss_other\": 5949,\n",
    "# \"drug_poss_subtotal\": 19449,\n",
    "# \"drug_poss_synthetic\": 18,\n",
    "# \"drug_sales_m\": 0,\n",
    "# \"drug_sales_opium\": 0,\n",
    "# \"drug_sales_other\": 1,\n",
    "# \"drug_sales_subtotal\": 1,\n",
    "# \"drug_sales_synthetic\": 0,\n",
    "# \"drunkness\": 14312,\n",
    "# \"embezzlement\": 2,\n",
    "# \"forgery\": 882,\n",
    "# \"fraud\": 926,\n",
    "# \"g_all\": 85,\n",
    "# \"g_b\": 0,\n",
    "# \"g_n\": 0,\n",
    "# \"g_t\": 85,\n",
    "# \"ht_c_s_a\": 0,\n",
    "# \"ht_i_s\": 0,\n",
    "# \"larceny\": 9988,\n",
    "# \"liquor\": 2735,\n",
    "# \"manslaughter\": 12,\n",
    "# \"mvt\": 38,\n",
    "# \"murder\": 152,\n",
    "# \"offense_family\": 8,\n",
    "# \"prostitution\": 2963,\n",
    "# \"prostitution_a_p_p\": 0,\n",
    "# \"prostitution_p\": 0,\n",
    "# \"prostitution_p_p\": 0,\n",
    "# \"rape\": 230,\n",
    "# \"robbery\": 1328,\n",
    "# \"sex_offense\": 409,\n",
    "# \"simple_assault\": 9252,\n",
    "# \"stolen_property\": 0,\n",
    "# \"suspicion\": 0,\n",
    "# \"vagrancy\": 105,\n",
    "# \"vandalism\": 1569,\n",
    "# \"weapons\": 1751,\n",
    "# \"csv_header\": null,\n",
    "# \"data_year\": 2007"
   ]
  }
 ],
 "metadata": {
  "kernelspec": {
   "display_name": "Python 3",
   "language": "python",
   "name": "python3"
  },
  "language_info": {
   "codemirror_mode": {
    "name": "ipython",
    "version": 3
   },
   "file_extension": ".py",
   "mimetype": "text/x-python",
   "name": "python",
   "nbconvert_exporter": "python",
   "pygments_lexer": "ipython3",
   "version": "3.6.8"
  }
 },
 "nbformat": 4,
 "nbformat_minor": 2
}
